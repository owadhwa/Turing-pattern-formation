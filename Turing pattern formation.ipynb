{
 "cells": [
  {
   "cell_type": "markdown",
   "id": "a37c5c48",
   "metadata": {},
   "source": [
    "**Turing pattern formation**  \n",
    "This is a simulation of Turing pattern formation using cellular automata."
   ]
  },
  {
   "cell_type": "markdown",
   "id": "3e1673f1",
   "metadata": {},
   "source": [
    "Animal skin patterns are examples of pattern formation in biological systems.   \n",
    "Assume a two-dimensional space made of cells where each cell can take either a passive (state = 0) or active (state = 1) state. A cell becomes activated if there are sufficient numebr of active cells in its local neighbourhood. However, other active cells outside this neighbourhood try to suppress the activation of the focal cell with relatively weaker influences than from the active cells in its close vicinity. These dynamics are called *short-range activation* and *long-range inhibition*. This model can be described mathematically as follows:"
   ]
  },
  {
   "cell_type": "markdown",
   "id": "b649c898",
   "metadata": {},
   "source": [
    "$\n",
    "N_a = x' ||x'| \\le R_a \\\\\n",
    "N_i = x' ||x'| \\le R_i \\\\\n",
    "a_t (x) = w_a \\sum_{x' \\in N_a} {s_t (x + x')} - w_i \\sum_{x' \\in N_a} {s_t (x + x')} \\\\\n",
    "x_{t+1} (x) = 1 \\space if a_t (x) > 0; otherwise  \\space 0\n",
    "$"
   ]
  },
  {
   "cell_type": "markdown",
   "id": "243e371f",
   "metadata": {},
   "source": [
    "Here, $R_a$ and $R_i$ are the radii of the neighbourhoods for activation (N_a) and inhibition (N_i), respectively (R_a < R_i). w_a and w_i are the weights that represent their relative strengths. a_t(x) is the result of two neighbourhood countings which tells you whether the short range activation wins (a_t > 0) or the ling range inhibition wins (a_t \\le 0) at location x."
   ]
  },
  {
   "cell_type": "code",
   "execution_count": 1,
   "id": "470b29eb",
   "metadata": {},
   "outputs": [
    {
     "name": "stderr",
     "output_type": "stream",
     "text": [
      "\n",
      "Bad key text.latex.preview in file C:\\Users\\Omika\\anaconda3\\lib\\site-packages\\matplotlib\\mpl-data\\stylelib\\_classic_test.mplstyle, line 123 ('text.latex.preview : False')\n",
      "You probably need to get an updated matplotlibrc file from\n",
      "https://github.com/matplotlib/matplotlib/blob/v3.5.0/matplotlibrc.template\n",
      "or from the matplotlib source distribution\n",
      "\n",
      "Bad key mathtext.fallback_to_cm in file C:\\Users\\Omika\\anaconda3\\lib\\site-packages\\matplotlib\\mpl-data\\stylelib\\_classic_test.mplstyle, line 155 ('mathtext.fallback_to_cm : True  # When True, use symbols from the Computer Modern')\n",
      "You probably need to get an updated matplotlibrc file from\n",
      "https://github.com/matplotlib/matplotlib/blob/v3.5.0/matplotlibrc.template\n",
      "or from the matplotlib source distribution\n",
      "\n",
      "Bad key savefig.jpeg_quality in file C:\\Users\\Omika\\anaconda3\\lib\\site-packages\\matplotlib\\mpl-data\\stylelib\\_classic_test.mplstyle, line 418 ('savefig.jpeg_quality: 95       # when a jpeg is saved, the default quality parameter.')\n",
      "You probably need to get an updated matplotlibrc file from\n",
      "https://github.com/matplotlib/matplotlib/blob/v3.5.0/matplotlibrc.template\n",
      "or from the matplotlib source distribution\n",
      "\n",
      "Bad key keymap.all_axes in file C:\\Users\\Omika\\anaconda3\\lib\\site-packages\\matplotlib\\mpl-data\\stylelib\\_classic_test.mplstyle, line 466 ('keymap.all_axes : a                 # enable all axes')\n",
      "You probably need to get an updated matplotlibrc file from\n",
      "https://github.com/matplotlib/matplotlib/blob/v3.5.0/matplotlibrc.template\n",
      "or from the matplotlib source distribution\n",
      "\n",
      "Bad key animation.avconv_path in file C:\\Users\\Omika\\anaconda3\\lib\\site-packages\\matplotlib\\mpl-data\\stylelib\\_classic_test.mplstyle, line 477 ('animation.avconv_path: avconv     # Path to avconv binary. Without full path')\n",
      "You probably need to get an updated matplotlibrc file from\n",
      "https://github.com/matplotlib/matplotlib/blob/v3.5.0/matplotlibrc.template\n",
      "or from the matplotlib source distribution\n",
      "\n",
      "Bad key animation.avconv_args in file C:\\Users\\Omika\\anaconda3\\lib\\site-packages\\matplotlib\\mpl-data\\stylelib\\_classic_test.mplstyle, line 479 ('animation.avconv_args:            # Additional arguments to pass to avconv')\n",
      "You probably need to get an updated matplotlibrc file from\n",
      "https://github.com/matplotlib/matplotlib/blob/v3.5.0/matplotlibrc.template\n",
      "or from the matplotlib source distribution\n"
     ]
    }
   ],
   "source": [
    "import matplotlib\n",
    "matplotlib.use(\"TkAgg\")\n",
    "\n",
    "import pylab as PL\n",
    "import random as RD\n",
    "import scipy as SP\n",
    "\n",
    "RD.seed()\n",
    "\n",
    "width = 50\n",
    "height = 50\n",
    "initProb = 0.5\n",
    "Ra = 1\n",
    "Ri = 5\n",
    "Wa = 1\n",
    "Wi = 0.1\n",
    "\n",
    "def init():\n",
    "    global time, config, nextconfig\n",
    "    \n",
    "    time = 0\n",
    "    \n",
    "    config = SP.zeros([height, width])\n",
    "    for x in range(width):\n",
    "        for y in range(height):\n",
    "            if RD.random() < initProb:\n",
    "                state = 1\n",
    "            else:\n",
    "                state = 0\n",
    "            config[y, x] = state\n",
    "    \n",
    "    nextconfig = SP.zeros([height, width])\n",
    "    \n",
    "def draw():\n",
    "    PL.cla()\n",
    "    PL.pcolor(config, vmin = 0, vmax = 1, cmap = PL.cm.binary)\n",
    "    PL.axis(\"image\")\n",
    "    PL.title(\"t = \" + str(time))\n",
    "    \n",
    "def step():\n",
    "    global time, config, nextconfig\n",
    "    \n",
    "    time += 1\n",
    "    \n",
    "    for x in range(width):\n",
    "        for y in range(height):\n",
    "            state = config[y, x]\n",
    "            na = ni = 0\n",
    "            for dx in range(-Ra, Ra+1):\n",
    "                for dy in range(-Ra, Ra+1):\n",
    "                    na += config[(y+dy)%height, (x+dx)%width]\n",
    "            for dx in range(-Ri, Ri+1):\n",
    "                for dy in range(-Ri, Ri+1):\n",
    "                    ni += config[(y+dy)%height, (x+dx)%width]\n",
    "            if na * Wa - ni * Wi > 0:\n",
    "                state = 1\n",
    "            else:\n",
    "                state = 0\n",
    "            nextconfig[y, x] = state\n",
    "            \n",
    "    config, nextconfig = nextconfig, config"
   ]
  },
  {
   "cell_type": "code",
   "execution_count": 2,
   "id": "cf08dd9e",
   "metadata": {},
   "outputs": [
    {
     "name": "stderr",
     "output_type": "stream",
     "text": [
      "C:\\Users\\Omika\\AppData\\Local\\Temp/ipykernel_33676/345268472.py:23: DeprecationWarning: scipy.zeros is deprecated and will be removed in SciPy 2.0.0, use numpy.zeros instead\n",
      "  config = SP.zeros([height, width])\n",
      "C:\\Users\\Omika\\AppData\\Local\\Temp/ipykernel_33676/345268472.py:32: DeprecationWarning: scipy.zeros is deprecated and will be removed in SciPy 2.0.0, use numpy.zeros instead\n",
      "  nextconfig = SP.zeros([height, width])\n",
      "C:\\Users\\Omika\\anaconda3\\lib\\site-packages\\ipykernel\\eventloops.py:256: RuntimeWarning: coroutine 'Kernel.do_one_iteration' was never awaited\n",
      "  self.func()\n",
      "RuntimeWarning: Enable tracemalloc to get the object allocation traceback\n"
     ]
    }
   ],
   "source": [
    "import pycxsimulator\n",
    "pycxsimulator.GUI().start(func=[init, draw, step])"
   ]
  },
  {
   "cell_type": "code",
   "execution_count": null,
   "id": "93c3898d",
   "metadata": {},
   "outputs": [],
   "source": []
  }
 ],
 "metadata": {
  "@webio": {
   "lastCommId": null,
   "lastKernelId": null
  },
  "kernelspec": {
   "display_name": "Python 3 (ipykernel)",
   "language": "python",
   "name": "python3"
  },
  "language_info": {
   "codemirror_mode": {
    "name": "ipython",
    "version": 3
   },
   "file_extension": ".py",
   "mimetype": "text/x-python",
   "name": "python",
   "nbconvert_exporter": "python",
   "pygments_lexer": "ipython3",
   "version": "3.8.12"
  }
 },
 "nbformat": 4,
 "nbformat_minor": 5
}
